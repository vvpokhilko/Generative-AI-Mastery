{
  "cells": [
    {
      "cell_type": "markdown",
      "metadata": {
        "id": "_66s0LDu-mqx"
      },
      "source": [
        "#Word2Vec"
      ]
    },
    {
      "cell_type": "code",
      "source": [
        "# https://drive.google.com/file/d/1lbtAwzE7l0otXYFDtGUKKWzI83bD5D5H/view?usp=drive_link"
      ],
      "metadata": {
        "id": "b5dFUE7DjdHm"
      },
      "execution_count": null,
      "outputs": []
    },
    {
      "cell_type": "code",
      "source": [
        "# Download Game of Thrones books from Kaggle\n",
        "import kagglehub\n",
        "\n",
        "# Download latest version\n",
        "path = kagglehub.dataset_download(\"khulasasndh/game-of-thrones-books\")\n",
        "\n",
        "print(\"Path to dataset files:\", path)"
      ],
      "metadata": {
        "id": "adiZytacy8Bt",
        "outputId": "4cfbe30e-d007-4a7f-eb21-5ef18ce5ec41",
        "colab": {
          "base_uri": "https://localhost:8080/"
        }
      },
      "execution_count": 1,
      "outputs": [
        {
          "output_type": "stream",
          "name": "stdout",
          "text": [
            "Downloading from https://www.kaggle.com/api/v1/datasets/download/khulasasndh/game-of-thrones-books?dataset_version_number=1...\n"
          ]
        },
        {
          "output_type": "stream",
          "name": "stderr",
          "text": [
            "100%|██████████| 3.71M/3.71M [00:00<00:00, 61.0MB/s]"
          ]
        },
        {
          "output_type": "stream",
          "name": "stdout",
          "text": [
            "Extracting files...\n"
          ]
        },
        {
          "output_type": "stream",
          "name": "stderr",
          "text": [
            "\n"
          ]
        },
        {
          "output_type": "stream",
          "name": "stdout",
          "text": [
            "Path to dataset files: /root/.cache/kagglehub/datasets/khulasasndh/game-of-thrones-books/versions/1\n"
          ]
        }
      ]
    },
    {
      "cell_type": "code",
      "execution_count": 2,
      "metadata": {
        "id": "qtb9tClH_L8g"
      },
      "outputs": [],
      "source": [
        "import numpy as np\n",
        "import pandas as pd\n",
        "import gensim # Is a versatile Python package commonly used for natural language processing (NLP) tasks, such as topic modeling, text similarity analysis, and document indexing.\n",
        "import os"
      ]
    },
    {
      "cell_type": "code",
      "execution_count": 3,
      "metadata": {
        "colab": {
          "base_uri": "https://localhost:8080/"
        },
        "id": "lPduM4q6Demo",
        "outputId": "efe2f086-5503-40f9-982f-bb79053aecf6"
      },
      "outputs": [
        {
          "output_type": "stream",
          "name": "stdout",
          "text": [
            "Requirement already satisfied: gensim in /usr/local/lib/python3.11/dist-packages (4.3.3)\n",
            "Requirement already satisfied: numpy<2.0,>=1.18.5 in /usr/local/lib/python3.11/dist-packages (from gensim) (1.26.4)\n",
            "Requirement already satisfied: scipy<1.14.0,>=1.7.0 in /usr/local/lib/python3.11/dist-packages (from gensim) (1.13.1)\n",
            "Requirement already satisfied: smart-open>=1.8.1 in /usr/local/lib/python3.11/dist-packages (from gensim) (7.1.0)\n",
            "Requirement already satisfied: wrapt in /usr/local/lib/python3.11/dist-packages (from smart-open>=1.8.1->gensim) (1.17.2)\n"
          ]
        }
      ],
      "source": [
        "# Let's update gensim\n",
        "!pip install --upgrade gensim --user"
      ]
    },
    {
      "cell_type": "code",
      "source": [
        "from nltk import sent_tokenize\n",
        "from time import time  # To time our operations\n",
        "from gensim.utils import simple_preprocess # It converts text to lowercase, eliminates punctuation, and splits text into individual words.\n",
        "import nltk\n",
        "nltk.download('punkt_tab')"
      ],
      "metadata": {
        "colab": {
          "base_uri": "https://localhost:8080/"
        },
        "id": "BnH0fB8KFsNk",
        "outputId": "36fed9dd-bb09-45a7-a5f9-0cf98cff3fe6"
      },
      "execution_count": 37,
      "outputs": [
        {
          "output_type": "stream",
          "name": "stderr",
          "text": [
            "[nltk_data] Downloading package punkt_tab to /root/nltk_data...\n",
            "[nltk_data]   Package punkt_tab is already up-to-date!\n"
          ]
        },
        {
          "output_type": "execute_result",
          "data": {
            "text/plain": [
              "True"
            ]
          },
          "metadata": {},
          "execution_count": 37
        }
      ]
    },
    {
      "cell_type": "code",
      "source": [
        "for filename in os.listdir(f\"{path}\"):\n",
        "    print(filename)"
      ],
      "metadata": {
        "id": "1OiiezBB3iVW",
        "outputId": "29160670-4997-4896-e5ef-0cfaf974e8fc",
        "colab": {
          "base_uri": "https://localhost:8080/"
        }
      },
      "execution_count": 5,
      "outputs": [
        {
          "output_type": "stream",
          "name": "stdout",
          "text": [
            "005ssb.txt\n",
            "001ssb.txt\n",
            "003ssb.txt\n",
            "004ssb.txt\n",
            "002ssb.txt\n"
          ]
        }
      ]
    },
    {
      "cell_type": "markdown",
      "source": [
        "There are 5 books available. Sadly, files 005 and 004 have some weird encoding, so we will leave them out."
      ],
      "metadata": {
        "id": "zcux5xvy6VGV"
      }
    },
    {
      "cell_type": "code",
      "execution_count": 6,
      "metadata": {
        "id": "DPrW0SoN_W2q",
        "outputId": "c1862cb0-7d06-404c-ef40-4174698ab17e",
        "colab": {
          "base_uri": "https://localhost:8080/"
        }
      },
      "outputs": [
        {
          "output_type": "stream",
          "name": "stdout",
          "text": [
            "001ssb.txt\n",
            "002ssb.txt\n",
            "003ssb.txt\n"
          ]
        }
      ],
      "source": [
        "story = []\n",
        "for filename in [\"001ssb.txt\", \"002ssb.txt\", \"003ssb.txt\"]:\n",
        "    if filename == '.ipynb_checkpoints':\n",
        "      pass\n",
        "    print(filename)\n",
        "    with open(f\"{path}/{filename}\", \"r\") as f:\n",
        "        corpus = f.read().replace(\"\\n\", \"\")\n",
        "    raw_sent = sent_tokenize(corpus)\n",
        "    for sent in raw_sent:\n",
        "        story.append(simple_preprocess(sent))"
      ]
    },
    {
      "cell_type": "code",
      "source": [
        "story[:5]"
      ],
      "metadata": {
        "colab": {
          "base_uri": "https://localhost:8080/"
        },
        "id": "IHnOagqplqTg",
        "outputId": "a27c80e4-5cf3-42d7-f454-13ab8dd6e3e2"
      },
      "execution_count": 26,
      "outputs": [
        {
          "output_type": "execute_result",
          "data": {
            "text/plain": [
              "[['game',\n",
              "  'of',\n",
              "  'thrones',\n",
              "  'book',\n",
              "  'one',\n",
              "  'of',\n",
              "  'song',\n",
              "  'of',\n",
              "  'ice',\n",
              "  'and',\n",
              "  'fire',\n",
              "  'by',\n",
              "  'george',\n",
              "  'martin',\n",
              "  'prologue',\n",
              "  'we',\n",
              "  'should',\n",
              "  'start',\n",
              "  'back',\n",
              "  'gared',\n",
              "  'urged',\n",
              "  'as',\n",
              "  'the',\n",
              "  'woods',\n",
              "  'began',\n",
              "  'to',\n",
              "  'grow',\n",
              "  'dark',\n",
              "  'around',\n",
              "  'them'],\n",
              " ['the', 'wildlings', 'are', 'dead'],\n",
              " ['do', 'the', 'dead', 'frighten', 'you'],\n",
              " ['ser',\n",
              "  'waymar',\n",
              "  'royce',\n",
              "  'asked',\n",
              "  'with',\n",
              "  'just',\n",
              "  'the',\n",
              "  'hint',\n",
              "  'of',\n",
              "  'smile'],\n",
              " ['gared', 'did', 'not', 'rise', 'to', 'the', 'bait']]"
            ]
          },
          "metadata": {},
          "execution_count": 26
        }
      ]
    },
    {
      "cell_type": "code",
      "source": [
        "len(story)"
      ],
      "metadata": {
        "colab": {
          "base_uri": "https://localhost:8080/"
        },
        "id": "WXWMsDJIF_cL",
        "outputId": "6874751f-7240-4b59-f638-b51167c9a885"
      },
      "execution_count": 7,
      "outputs": [
        {
          "output_type": "execute_result",
          "data": {
            "text/plain": [
              "94734"
            ]
          },
          "metadata": {},
          "execution_count": 7
        }
      ]
    },
    {
      "cell_type": "code",
      "source": [
        "story[0]"
      ],
      "metadata": {
        "colab": {
          "base_uri": "https://localhost:8080/"
        },
        "id": "trLnU-jmsG7j",
        "outputId": "f1bcedfd-4c2f-4e7c-ba52-10a57f7a8996"
      },
      "execution_count": 8,
      "outputs": [
        {
          "output_type": "execute_result",
          "data": {
            "text/plain": [
              "['game',\n",
              " 'of',\n",
              " 'thrones',\n",
              " 'book',\n",
              " 'one',\n",
              " 'of',\n",
              " 'song',\n",
              " 'of',\n",
              " 'ice',\n",
              " 'and',\n",
              " 'fire',\n",
              " 'by',\n",
              " 'george',\n",
              " 'martin',\n",
              " 'prologue',\n",
              " 'we',\n",
              " 'should',\n",
              " 'start',\n",
              " 'back',\n",
              " 'gared',\n",
              " 'urged',\n",
              " 'as',\n",
              " 'the',\n",
              " 'woods',\n",
              " 'began',\n",
              " 'to',\n",
              " 'grow',\n",
              " 'dark',\n",
              " 'around',\n",
              " 'them']"
            ]
          },
          "metadata": {},
          "execution_count": 8
        }
      ]
    },
    {
      "cell_type": "markdown",
      "source": [
        " `Word2Vec` uses the **Continuous Bag-of-Words (CBOW)** or **Skip-gram** model, which are neural network architectures. Word embeddings, generated by `Word2Vec` Gensim, are dense vector representations of words that encode semantic and syntactic information.\n",
        "\n",
        " `Word2Vec` is a widely used algorithm based on neural networks, commonly referred to as “**deep learning**” (though word2vec itself is rather shallow). Using large amounts of unannotated plain text, word2vec learns relationships between words automatically. The output are vectors, one vector per word, with remarkable linear relationships that allow us to do things like:\n",
        "```\n",
        "vec(“king”) - vec(“man”) + vec(“woman”) =~ vec(“queen”)\n",
        "\n",
        "vec(“Montreal Canadiens”) – vec(“Montreal”) + vec(“Toronto”) =~ vec(“Toronto Maple Leafs”).\n",
        "```\n",
        "Word2vec is very useful in automatic text tagging, recommender systems and machine translation."
      ],
      "metadata": {
        "id": "8dhwXGB-8nLD"
      }
    },
    {
      "cell_type": "code",
      "execution_count": 39,
      "metadata": {
        "id": "EXvdA0KjCO4y"
      },
      "outputs": [],
      "source": [
        "# Initialize a Word2Vec model with specified hyperparameters\n",
        "model = gensim.models.Word2Vec(\n",
        "    window=10,  # The maximum distance between the current and predicted word within a sentence. Words within this window are considered as context.\n",
        "    min_count=2  # Ignores all words that appear less than `min_count` times in the dataset, reducing noise.\n",
        ")"
      ]
    },
    {
      "cell_type": "code",
      "source": [
        "# let's try the default values\n",
        "model = gensim.models.Word2Vec(\n",
        "    window=5,  # The maximum distance between the current and predicted word within a sentence. Words within this window are considered as context.\n",
        "    min_count=5  # Ignores all words that appear less than `min_count` times in the dataset, reducing noise.\n",
        ")"
      ],
      "metadata": {
        "id": "8zFQ1aTTHswe"
      },
      "execution_count": 46,
      "outputs": []
    },
    {
      "cell_type": "code",
      "execution_count": 47,
      "metadata": {
        "id": "uyEf0dk9Cbja",
        "outputId": "002f598c-1c1c-4734-d527-8e221ff2de12",
        "colab": {
          "base_uri": "https://localhost:8080/"
        }
      },
      "outputs": [
        {
          "output_type": "stream",
          "name": "stdout",
          "text": [
            "Time to build vocab: 0.01 mins\n"
          ]
        }
      ],
      "source": [
        "# Build vocabulary from the provided corpus (list of tokenized sentences)\n",
        "t = time()\n",
        "model.build_vocab(story, progress_per=10000)\n",
        "print('Time to build vocab: {} mins'.format(round((time() - t) / 60, 2)))"
      ]
    },
    {
      "cell_type": "code",
      "source": [
        "model.epochs"
      ],
      "metadata": {
        "id": "mqY6bqiXAOHz",
        "outputId": "21a153cd-552b-4657-eb90-13eefe2e7a40",
        "colab": {
          "base_uri": "https://localhost:8080/"
        }
      },
      "execution_count": 48,
      "outputs": [
        {
          "output_type": "execute_result",
          "data": {
            "text/plain": [
              "5"
            ]
          },
          "metadata": {},
          "execution_count": 48
        }
      ]
    },
    {
      "cell_type": "code",
      "execution_count": 49,
      "metadata": {
        "colab": {
          "base_uri": "https://localhost:8080/"
        },
        "id": "HV5QuD4dCdOb",
        "outputId": "28cab2d0-355a-473a-e3c9-0c329c2028d9"
      },
      "outputs": [
        {
          "output_type": "stream",
          "name": "stdout",
          "text": [
            "Time to train the model: 0.5 mins\n"
          ]
        }
      ],
      "source": [
        "# Train the Word2Vec model using the given corpus\n",
        "t = time()\n",
        "model.train(story, total_examples=model.corpus_count, epochs=20, report_delay=1) # you could use `epochs = model.epochs`\n",
        "print('Time to train the model: {} mins'.format(round((time() - t) / 60, 2)))"
      ]
    },
    {
      "cell_type": "code",
      "execution_count": 50,
      "metadata": {
        "colab": {
          "base_uri": "https://localhost:8080/"
        },
        "id": "NX_APj3UCfFy",
        "outputId": "642116bf-21b1-4b51-eef2-340d690aad62"
      },
      "outputs": [
        {
          "output_type": "execute_result",
          "data": {
            "text/plain": [
              "[('stormborn', 0.7103463411331177),\n",
              " ('targaryen', 0.6712801456451416),\n",
              " ('rhaegar', 0.6466792225837708),\n",
              " ('unburnt', 0.6303451657295227),\n",
              " ('viserys', 0.6259397268295288),\n",
              " ('myrcella', 0.5618194341659546),\n",
              " ('elia', 0.5505236387252808),\n",
              " ('drogo', 0.544474184513092),\n",
              " ('aegon', 0.5281243920326233),\n",
              " ('illyrio', 0.5219383835792542)]"
            ]
          },
          "metadata": {},
          "execution_count": 50
        }
      ],
      "source": [
        "# Retrieve the most similar words to 'daenerys' based on cosine similarity\n",
        "model.wv.most_similar('daenerys')"
      ]
    },
    {
      "cell_type": "code",
      "execution_count": 51,
      "metadata": {
        "colab": {
          "base_uri": "https://localhost:8080/"
        },
        "id": "HYX24SHWClIi",
        "outputId": "1f448f51-4531-4e60-91b3-44b9e569bb4a"
      },
      "outputs": [
        {
          "output_type": "execute_result",
          "data": {
            "text/plain": [
              "0.7331195"
            ]
          },
          "metadata": {},
          "execution_count": 51
        }
      ],
      "source": [
        "# Compute the cosine similarity between 'arya' and 'sansa'\n",
        "model.wv.similarity('arya','sansa')"
      ]
    },
    {
      "cell_type": "code",
      "source": [
        "# Get the shape of the word vector for the word 'deep'. It appears as all vectors have the same shape\n",
        "model.wv['sansa'].shape"
      ],
      "metadata": {
        "colab": {
          "base_uri": "https://localhost:8080/"
        },
        "id": "Oult5vdkIdgs",
        "outputId": "9877cd0f-7fce-4a30-b7e7-211ff8682d75"
      },
      "execution_count": 45,
      "outputs": [
        {
          "output_type": "execute_result",
          "data": {
            "text/plain": [
              "(100,)"
            ]
          },
          "metadata": {},
          "execution_count": 45
        }
      ]
    },
    {
      "cell_type": "code",
      "execution_count": 19,
      "metadata": {
        "id": "nAOJ35vmDU-C"
      },
      "outputs": [],
      "source": [
        "# Retrieve normalized word vectors (i.e., unit vectors for each word)\n",
        "vec = model.wv.get_normed_vectors()"
      ]
    },
    {
      "cell_type": "code",
      "source": [
        "vec"
      ],
      "metadata": {
        "colab": {
          "base_uri": "https://localhost:8080/"
        },
        "id": "_U2UK-3tpIyh",
        "outputId": "43f2275e-2684-49c8-ad86-bdae90d70db9"
      },
      "execution_count": 20,
      "outputs": [
        {
          "output_type": "execute_result",
          "data": {
            "text/plain": [
              "array([[-0.06604158,  0.04604711,  0.01600297, ..., -0.11948179,\n",
              "        -0.06598475,  0.02449968],\n",
              "       [-0.12688668,  0.27850735,  0.13095976, ...,  0.01626877,\n",
              "        -0.01831332, -0.1656104 ],\n",
              "       [-0.0084589 , -0.00468547, -0.02021996, ...,  0.00380767,\n",
              "         0.14752606, -0.06917705],\n",
              "       ...,\n",
              "       [-0.14824516,  0.08083956, -0.1247558 , ...,  0.00837042,\n",
              "        -0.00738801,  0.03141685],\n",
              "       [-0.19505522,  0.10683527, -0.01477464, ..., -0.0251078 ,\n",
              "         0.00836608, -0.09943503],\n",
              "       [ 0.01064054,  0.115258  , -0.09687652, ..., -0.09502752,\n",
              "        -0.06967658, -0.16586386]], dtype=float32)"
            ]
          },
          "metadata": {},
          "execution_count": 20
        }
      ]
    },
    {
      "cell_type": "code",
      "execution_count": 21,
      "metadata": {
        "colab": {
          "base_uri": "https://localhost:8080/"
        },
        "id": "AOQlWPBODXrk",
        "outputId": "466d649e-3cd2-4526-dcbb-24bd9c55b9ad"
      },
      "outputs": [
        {
          "output_type": "execute_result",
          "data": {
            "text/plain": [
              "(13774, 100)"
            ]
          },
          "metadata": {},
          "execution_count": 21
        }
      ],
      "source": [
        "model.wv.get_normed_vectors().shape"
      ]
    },
    {
      "cell_type": "code",
      "execution_count": 22,
      "metadata": {
        "id": "qb2xGZsXC9JB"
      },
      "outputs": [],
      "source": [
        "# Get the list of words in the vocabulary, indexed by frequency\n",
        "y = model.wv.index_to_key"
      ]
    },
    {
      "cell_type": "code",
      "source": [
        "len(y)"
      ],
      "metadata": {
        "colab": {
          "base_uri": "https://localhost:8080/"
        },
        "id": "Ekch5e9iInrs",
        "outputId": "e37a9332-99d0-475b-d8a6-6493e37cce56"
      },
      "execution_count": 23,
      "outputs": [
        {
          "output_type": "execute_result",
          "data": {
            "text/plain": [
              "13774"
            ]
          },
          "metadata": {},
          "execution_count": 23
        }
      ]
    },
    {
      "cell_type": "code",
      "source": [
        "y[200:250]"
      ],
      "metadata": {
        "colab": {
          "base_uri": "https://localhost:8080/"
        },
        "id": "n1qd1Zs2pjzU",
        "outputId": "6ad38ba2-0b9a-4e24-d8d3-28c48aa013ae"
      },
      "execution_count": 27,
      "outputs": [
        {
          "output_type": "execute_result",
          "data": {
            "text/plain": [
              "['last',\n",
              " 'seemed',\n",
              " 'while',\n",
              " 'woman',\n",
              " 'feet',\n",
              " 'hard',\n",
              " 'hands',\n",
              " 'mother',\n",
              " 'done',\n",
              " 'winterfell',\n",
              " 'nothing',\n",
              " 'ever',\n",
              " 'hair',\n",
              " 'hear',\n",
              " 'voice',\n",
              " 'another',\n",
              " 'beneath',\n",
              " 'stone',\n",
              " 'many',\n",
              " 'those',\n",
              " 'water',\n",
              " 'high',\n",
              " 'between',\n",
              " 'under',\n",
              " 'until',\n",
              " 'snow',\n",
              " 'gone',\n",
              " 'stood',\n",
              " 'wine',\n",
              " 'find',\n",
              " 'small',\n",
              " 'put',\n",
              " 'sister',\n",
              " 'give',\n",
              " 'dark',\n",
              " 'grey',\n",
              " 'cersei',\n",
              " 'end',\n",
              " 'right',\n",
              " 'place',\n",
              " 'watch',\n",
              " 'name',\n",
              " 'grace',\n",
              " 'fingers',\n",
              " 'sam',\n",
              " 'seen',\n",
              " 'get',\n",
              " 'beside',\n",
              " 'cloak',\n",
              " 'door']"
            ]
          },
          "metadata": {},
          "execution_count": 27
        }
      ]
    },
    {
      "cell_type": "code",
      "execution_count": 28,
      "metadata": {
        "id": "rpX0bPdOCpeK"
      },
      "outputs": [],
      "source": [
        "from sklearn.decomposition import PCA"
      ]
    },
    {
      "cell_type": "code",
      "execution_count": 29,
      "metadata": {
        "id": "4NFJlN3aCrqx"
      },
      "outputs": [],
      "source": [
        "pca = PCA(n_components=3)"
      ]
    },
    {
      "cell_type": "code",
      "execution_count": 30,
      "metadata": {
        "id": "wh4e5ej5C0_a"
      },
      "outputs": [],
      "source": [
        "\n",
        "X = pca.fit_transform(model.wv.get_normed_vectors())"
      ]
    },
    {
      "cell_type": "code",
      "execution_count": 31,
      "metadata": {
        "colab": {
          "base_uri": "https://localhost:8080/"
        },
        "id": "HgQROFJoC2Oy",
        "outputId": "95a38df8-6957-4d59-9f7e-70d47fc0a3d3"
      },
      "outputs": [
        {
          "output_type": "execute_result",
          "data": {
            "text/plain": [
              "array([[-0.15094817, -0.44532454, -0.40168142],\n",
              "       [-0.24812233, -0.22499356, -0.25647002],\n",
              "       [ 0.38997477, -0.1372887 , -0.5963321 ],\n",
              "       ...,\n",
              "       [ 0.34013367,  0.18639071, -0.3547238 ],\n",
              "       [ 0.3854748 , -0.1241499 ,  0.19776344],\n",
              "       [ 0.02786247, -0.43707842, -0.00766999]], dtype=float32)"
            ]
          },
          "metadata": {},
          "execution_count": 31
        }
      ],
      "source": [
        "X"
      ]
    },
    {
      "cell_type": "code",
      "execution_count": 32,
      "metadata": {
        "colab": {
          "base_uri": "https://localhost:8080/"
        },
        "id": "ZPNmneT7DQeJ",
        "outputId": "81299a21-1220-41c3-c114-f1acb0bf7cf1"
      },
      "outputs": [
        {
          "output_type": "execute_result",
          "data": {
            "text/plain": [
              "(13774, 3)"
            ]
          },
          "metadata": {},
          "execution_count": 32
        }
      ],
      "source": [
        "X.shape"
      ]
    },
    {
      "cell_type": "code",
      "execution_count": 35,
      "metadata": {
        "colab": {
          "base_uri": "https://localhost:8080/",
          "height": 542
        },
        "id": "yh46pgKSDjOZ",
        "outputId": "9b541d73-91eb-4d85-c747-ca3b97e69228"
      },
      "outputs": [
        {
          "output_type": "display_data",
          "data": {
            "text/html": [
              "<html>\n",
              "<head><meta charset=\"utf-8\" /></head>\n",
              "<body>\n",
              "    <div>            <script src=\"https://cdnjs.cloudflare.com/ajax/libs/mathjax/2.7.5/MathJax.js?config=TeX-AMS-MML_SVG\"></script><script type=\"text/javascript\">if (window.MathJax && window.MathJax.Hub && window.MathJax.Hub.Config) {window.MathJax.Hub.Config({SVG: {font: \"STIX-Web\"}});}</script>                <script type=\"text/javascript\">window.PlotlyConfig = {MathJaxConfig: 'local'};</script>\n",
              "        <script charset=\"utf-8\" src=\"https://cdn.plot.ly/plotly-2.35.2.min.js\"></script>                <div id=\"e1412305-5808-46b7-a56c-05312e7b0112\" class=\"plotly-graph-div\" style=\"height:525px; width:100%;\"></div>            <script type=\"text/javascript\">                                    window.PLOTLYENV=window.PLOTLYENV || {};                                    if (document.getElementById(\"e1412305-5808-46b7-a56c-05312e7b0112\")) {                    Plotly.newPlot(                        \"e1412305-5808-46b7-a56c-05312e7b0112\",                        [{\"hovertemplate\":\"color=together\\u003cbr\\u003e0=%{x}\\u003cbr\\u003e1=%{y}\\u003cbr\\u003e2=%{z}\\u003cextra\\u003e\\u003c\\u002fextra\\u003e\",\"legendgroup\":\"together\",\"marker\":{\"color\":\"#636efa\",\"symbol\":\"circle\"},\"mode\":\"markers\",\"name\":\"together\",\"scene\":\"scene\",\"showlegend\":true,\"x\":[-0.4007554],\"y\":[-0.15833017],\"z\":[-0.36312127],\"type\":\"scatter3d\"},{\"hovertemplate\":\"color=war\\u003cbr\\u003e0=%{x}\\u003cbr\\u003e1=%{y}\\u003cbr\\u003e2=%{z}\\u003cextra\\u003e\\u003c\\u002fextra\\u003e\",\"legendgroup\":\"war\",\"marker\":{\"color\":\"#EF553B\",\"symbol\":\"circle\"},\"mode\":\"markers\",\"name\":\"war\",\"scene\":\"scene\",\"showlegend\":true,\"x\":[0.5292715],\"y\":[-0.67832553],\"z\":[-0.26169983],\"type\":\"scatter3d\"},{\"hovertemplate\":\"color=death\\u003cbr\\u003e0=%{x}\\u003cbr\\u003e1=%{y}\\u003cbr\\u003e2=%{z}\\u003cextra\\u003e\\u003c\\u002fextra\\u003e\",\"legendgroup\":\"death\",\"marker\":{\"color\":\"#00cc96\",\"symbol\":\"circle\"},\"mode\":\"markers\",\"name\":\"death\",\"scene\":\"scene\",\"showlegend\":true,\"x\":[0.6064339],\"y\":[-0.31455046],\"z\":[-0.30512145],\"type\":\"scatter3d\"},{\"hovertemplate\":\"color=reached\\u003cbr\\u003e0=%{x}\\u003cbr\\u003e1=%{y}\\u003cbr\\u003e2=%{z}\\u003cextra\\u003e\\u003c\\u002fextra\\u003e\",\"legendgroup\":\"reached\",\"marker\":{\"color\":\"#ab63fa\",\"symbol\":\"circle\"},\"mode\":\"markers\",\"name\":\"reached\",\"scene\":\"scene\",\"showlegend\":true,\"x\":[-0.3878135],\"y\":[0.19250284],\"z\":[-0.5841476],\"type\":\"scatter3d\"},{\"hovertemplate\":\"color=fight\\u003cbr\\u003e0=%{x}\\u003cbr\\u003e1=%{y}\\u003cbr\\u003e2=%{z}\\u003cextra\\u003e\\u003c\\u002fextra\\u003e\",\"legendgroup\":\"fight\",\"marker\":{\"color\":\"#FFA15A\",\"symbol\":\"circle\"},\"mode\":\"markers\",\"name\":\"fight\",\"scene\":\"scene\",\"showlegend\":true,\"x\":[0.56294215],\"y\":[-0.31913126],\"z\":[-0.5252125],\"type\":\"scatter3d\"},{\"hovertemplate\":\"color=trees\\u003cbr\\u003e0=%{x}\\u003cbr\\u003e1=%{y}\\u003cbr\\u003e2=%{z}\\u003cextra\\u003e\\u003c\\u002fextra\\u003e\",\"legendgroup\":\"trees\",\"marker\":{\"color\":\"#19d3f3\",\"symbol\":\"circle\"},\"mode\":\"markers\",\"name\":\"trees\",\"scene\":\"scene\",\"showlegend\":true,\"x\":[-0.59581614],\"y\":[-0.5061858],\"z\":[-0.36221528],\"type\":\"scatter3d\"},{\"hovertemplate\":\"color=call\\u003cbr\\u003e0=%{x}\\u003cbr\\u003e1=%{y}\\u003cbr\\u003e2=%{z}\\u003cextra\\u003e\\u003c\\u002fextra\\u003e\",\"legendgroup\":\"call\",\"marker\":{\"color\":\"#FF6692\",\"symbol\":\"circle\"},\"mode\":\"markers\",\"name\":\"call\",\"scene\":\"scene\",\"showlegend\":true,\"x\":[0.53376865],\"y\":[0.12445046],\"z\":[-0.5560222],\"type\":\"scatter3d\"},{\"hovertemplate\":\"color=walder\\u003cbr\\u003e0=%{x}\\u003cbr\\u003e1=%{y}\\u003cbr\\u003e2=%{z}\\u003cextra\\u003e\\u003c\\u002fextra\\u003e\",\"legendgroup\":\"walder\",\"marker\":{\"color\":\"#B6E880\",\"symbol\":\"circle\"},\"mode\":\"markers\",\"name\":\"walder\",\"scene\":\"scene\",\"showlegend\":true,\"x\":[0.3939228],\"y\":[-0.25118998],\"z\":[0.07669264],\"type\":\"scatter3d\"},{\"hovertemplate\":\"color=riverrun\\u003cbr\\u003e0=%{x}\\u003cbr\\u003e1=%{y}\\u003cbr\\u003e2=%{z}\\u003cextra\\u003e\\u003c\\u002fextra\\u003e\",\"legendgroup\":\"riverrun\",\"marker\":{\"color\":\"#FF97FF\",\"symbol\":\"circle\"},\"mode\":\"markers\",\"name\":\"riverrun\",\"scene\":\"scene\",\"showlegend\":true,\"x\":[0.45225278],\"y\":[-0.39417398],\"z\":[-0.29646254],\"type\":\"scatter3d\"},{\"hovertemplate\":\"color=rose\\u003cbr\\u003e0=%{x}\\u003cbr\\u003e1=%{y}\\u003cbr\\u003e2=%{z}\\u003cextra\\u003e\\u003c\\u002fextra\\u003e\",\"legendgroup\":\"rose\",\"marker\":{\"color\":\"#FECB52\",\"symbol\":\"circle\"},\"mode\":\"markers\",\"name\":\"rose\",\"scene\":\"scene\",\"showlegend\":true,\"x\":[-0.620702],\"y\":[0.03173898],\"z\":[-0.22391382],\"type\":\"scatter3d\"},{\"hovertemplate\":\"color=speak\\u003cbr\\u003e0=%{x}\\u003cbr\\u003e1=%{y}\\u003cbr\\u003e2=%{z}\\u003cextra\\u003e\\u003c\\u002fextra\\u003e\",\"legendgroup\":\"speak\",\"marker\":{\"color\":\"#636efa\",\"symbol\":\"circle\"},\"mode\":\"markers\",\"name\":\"speak\",\"scene\":\"scene\",\"showlegend\":true,\"x\":[0.70700425],\"y\":[0.0903804],\"z\":[-0.48813522],\"type\":\"scatter3d\"},{\"hovertemplate\":\"color=sons\\u003cbr\\u003e0=%{x}\\u003cbr\\u003e1=%{y}\\u003cbr\\u003e2=%{z}\\u003cextra\\u003e\\u003c\\u002fextra\\u003e\",\"legendgroup\":\"sons\",\"marker\":{\"color\":\"#EF553B\",\"symbol\":\"circle\"},\"mode\":\"markers\",\"name\":\"sons\",\"scene\":\"scene\",\"showlegend\":true,\"x\":[0.4793968],\"y\":[-0.45960242],\"z\":[-0.1841987],\"type\":\"scatter3d\"},{\"hovertemplate\":\"color=wood\\u003cbr\\u003e0=%{x}\\u003cbr\\u003e1=%{y}\\u003cbr\\u003e2=%{z}\\u003cextra\\u003e\\u003c\\u002fextra\\u003e\",\"legendgroup\":\"wood\",\"marker\":{\"color\":\"#00cc96\",\"symbol\":\"circle\"},\"mode\":\"markers\",\"name\":\"wood\",\"scene\":\"scene\",\"showlegend\":true,\"x\":[-0.64112705],\"y\":[-0.46323603],\"z\":[-0.2618906],\"type\":\"scatter3d\"},{\"hovertemplate\":\"color=set\\u003cbr\\u003e0=%{x}\\u003cbr\\u003e1=%{y}\\u003cbr\\u003e2=%{z}\\u003cextra\\u003e\\u003c\\u002fextra\\u003e\",\"legendgroup\":\"set\",\"marker\":{\"color\":\"#ab63fa\",\"symbol\":\"circle\"},\"mode\":\"markers\",\"name\":\"set\",\"scene\":\"scene\",\"showlegend\":true,\"x\":[-0.32504505],\"y\":[-0.019984096],\"z\":[-0.4853048],\"type\":\"scatter3d\"},{\"hovertemplate\":\"color=upon\\u003cbr\\u003e0=%{x}\\u003cbr\\u003e1=%{y}\\u003cbr\\u003e2=%{z}\\u003cextra\\u003e\\u003c\\u002fextra\\u003e\",\"legendgroup\":\"upon\",\"marker\":{\"color\":\"#FFA15A\",\"symbol\":\"circle\"},\"mode\":\"markers\",\"name\":\"upon\",\"scene\":\"scene\",\"showlegend\":true,\"x\":[-0.3160051],\"y\":[-0.25610176],\"z\":[-0.30145732],\"type\":\"scatter3d\"},{\"hovertemplate\":\"color=burned\\u003cbr\\u003e0=%{x}\\u003cbr\\u003e1=%{y}\\u003cbr\\u003e2=%{z}\\u003cextra\\u003e\\u003c\\u002fextra\\u003e\",\"legendgroup\":\"burned\",\"marker\":{\"color\":\"#19d3f3\",\"symbol\":\"circle\"},\"mode\":\"markers\",\"name\":\"burned\",\"scene\":\"scene\",\"showlegend\":true,\"x\":[-0.4077425],\"y\":[-0.35080883],\"z\":[-0.3392683],\"type\":\"scatter3d\"},{\"hovertemplate\":\"color=send\\u003cbr\\u003e0=%{x}\\u003cbr\\u003e1=%{y}\\u003cbr\\u003e2=%{z}\\u003cextra\\u003e\\u003c\\u002fextra\\u003e\",\"legendgroup\":\"send\",\"marker\":{\"color\":\"#FF6692\",\"symbol\":\"circle\"},\"mode\":\"markers\",\"name\":\"send\",\"scene\":\"scene\",\"showlegend\":true,\"x\":[0.5881401],\"y\":[0.024115846],\"z\":[-0.56605613],\"type\":\"scatter3d\"},{\"hovertemplate\":\"color=hound\\u003cbr\\u003e0=%{x}\\u003cbr\\u003e1=%{y}\\u003cbr\\u003e2=%{z}\\u003cextra\\u003e\\u003c\\u002fextra\\u003e\",\"legendgroup\":\"hound\",\"marker\":{\"color\":\"#B6E880\",\"symbol\":\"circle\"},\"mode\":\"markers\",\"name\":\"hound\",\"scene\":\"scene\",\"showlegend\":true,\"x\":[-0.038228974],\"y\":[0.16086154],\"z\":[-0.4093742],\"type\":\"scatter3d\"},{\"hovertemplate\":\"color=alone\\u003cbr\\u003e0=%{x}\\u003cbr\\u003e1=%{y}\\u003cbr\\u003e2=%{z}\\u003cextra\\u003e\\u003c\\u002fextra\\u003e\",\"legendgroup\":\"alone\",\"marker\":{\"color\":\"#FF97FF\",\"symbol\":\"circle\"},\"mode\":\"markers\",\"name\":\"alone\",\"scene\":\"scene\",\"showlegend\":true,\"x\":[0.3259278],\"y\":[-0.0277512],\"z\":[-0.51121455],\"type\":\"scatter3d\"},{\"hovertemplate\":\"color=eddard\\u003cbr\\u003e0=%{x}\\u003cbr\\u003e1=%{y}\\u003cbr\\u003e2=%{z}\\u003cextra\\u003e\\u003c\\u002fextra\\u003e\",\"legendgroup\":\"eddard\",\"marker\":{\"color\":\"#FECB52\",\"symbol\":\"circle\"},\"mode\":\"markers\",\"name\":\"eddard\",\"scene\":\"scene\",\"showlegend\":true,\"x\":[0.46162355],\"y\":[-0.07833338],\"z\":[-0.22996932],\"type\":\"scatter3d\"},{\"hovertemplate\":\"color=full\\u003cbr\\u003e0=%{x}\\u003cbr\\u003e1=%{y}\\u003cbr\\u003e2=%{z}\\u003cextra\\u003e\\u003c\\u002fextra\\u003e\",\"legendgroup\":\"full\",\"marker\":{\"color\":\"#636efa\",\"symbol\":\"circle\"},\"mode\":\"markers\",\"name\":\"full\",\"scene\":\"scene\",\"showlegend\":true,\"x\":[-0.29766735],\"y\":[-0.38292617],\"z\":[-0.17837188],\"type\":\"scatter3d\"},{\"hovertemplate\":\"color=truth\\u003cbr\\u003e0=%{x}\\u003cbr\\u003e1=%{y}\\u003cbr\\u003e2=%{z}\\u003cextra\\u003e\\u003c\\u002fextra\\u003e\",\"legendgroup\":\"truth\",\"marker\":{\"color\":\"#EF553B\",\"symbol\":\"circle\"},\"mode\":\"markers\",\"name\":\"truth\",\"scene\":\"scene\",\"showlegend\":true,\"x\":[0.6642438],\"y\":[-0.2297418],\"z\":[-0.28214014],\"type\":\"scatter3d\"},{\"hovertemplate\":\"color=things\\u003cbr\\u003e0=%{x}\\u003cbr\\u003e1=%{y}\\u003cbr\\u003e2=%{z}\\u003cextra\\u003e\\u003c\\u002fextra\\u003e\",\"legendgroup\":\"things\",\"marker\":{\"color\":\"#00cc96\",\"symbol\":\"circle\"},\"mode\":\"markers\",\"name\":\"things\",\"scene\":\"scene\",\"showlegend\":true,\"x\":[0.48219305],\"y\":[-0.51974654],\"z\":[-0.38177937],\"type\":\"scatter3d\"},{\"hovertemplate\":\"color=legs\\u003cbr\\u003e0=%{x}\\u003cbr\\u003e1=%{y}\\u003cbr\\u003e2=%{z}\\u003cextra\\u003e\\u003c\\u002fextra\\u003e\",\"legendgroup\":\"legs\",\"marker\":{\"color\":\"#ab63fa\",\"symbol\":\"circle\"},\"mode\":\"markers\",\"name\":\"legs\",\"scene\":\"scene\",\"showlegend\":true,\"x\":[-0.49154347],\"y\":[0.048808247],\"z\":[-0.52489465],\"type\":\"scatter3d\"},{\"hovertemplate\":\"color=beyond\\u003cbr\\u003e0=%{x}\\u003cbr\\u003e1=%{y}\\u003cbr\\u003e2=%{z}\\u003cextra\\u003e\\u003c\\u002fextra\\u003e\",\"legendgroup\":\"beyond\",\"marker\":{\"color\":\"#FFA15A\",\"symbol\":\"circle\"},\"mode\":\"markers\",\"name\":\"beyond\",\"scene\":\"scene\",\"showlegend\":true,\"x\":[0.02529107],\"y\":[-0.6132914],\"z\":[-0.3864888],\"type\":\"scatter3d\"},{\"hovertemplate\":\"color=sun\\u003cbr\\u003e0=%{x}\\u003cbr\\u003e1=%{y}\\u003cbr\\u003e2=%{z}\\u003cextra\\u003e\\u003c\\u002fextra\\u003e\",\"legendgroup\":\"sun\",\"marker\":{\"color\":\"#19d3f3\",\"symbol\":\"circle\"},\"mode\":\"markers\",\"name\":\"sun\",\"scene\":\"scene\",\"showlegend\":true,\"x\":[-0.51598793],\"y\":[-0.4606561],\"z\":[-0.4371829],\"type\":\"scatter3d\"},{\"hovertemplate\":\"color=dragon\\u003cbr\\u003e0=%{x}\\u003cbr\\u003e1=%{y}\\u003cbr\\u003e2=%{z}\\u003cextra\\u003e\\u003c\\u002fextra\\u003e\",\"legendgroup\":\"dragon\",\"marker\":{\"color\":\"#FF6692\",\"symbol\":\"circle\"},\"mode\":\"markers\",\"name\":\"dragon\",\"scene\":\"scene\",\"showlegend\":true,\"x\":[-0.032903314],\"y\":[-0.5970518],\"z\":[-0.21364105],\"type\":\"scatter3d\"},{\"hovertemplate\":\"color=soft\\u003cbr\\u003e0=%{x}\\u003cbr\\u003e1=%{y}\\u003cbr\\u003e2=%{z}\\u003cextra\\u003e\\u003c\\u002fextra\\u003e\",\"legendgroup\":\"soft\",\"marker\":{\"color\":\"#B6E880\",\"symbol\":\"circle\"},\"mode\":\"markers\",\"name\":\"soft\",\"scene\":\"scene\",\"showlegend\":true,\"x\":[-0.6696096],\"y\":[0.09673925],\"z\":[-0.25751096],\"type\":\"scatter3d\"},{\"hovertemplate\":\"color=brienne\\u003cbr\\u003e0=%{x}\\u003cbr\\u003e1=%{y}\\u003cbr\\u003e2=%{z}\\u003cextra\\u003e\\u003c\\u002fextra\\u003e\",\"legendgroup\":\"brienne\",\"marker\":{\"color\":\"#FF97FF\",\"symbol\":\"circle\"},\"mode\":\"markers\",\"name\":\"brienne\",\"scene\":\"scene\",\"showlegend\":true,\"x\":[-0.13667715],\"y\":[0.22050796],\"z\":[-0.19042876],\"type\":\"scatter3d\"},{\"hovertemplate\":\"color=summer\\u003cbr\\u003e0=%{x}\\u003cbr\\u003e1=%{y}\\u003cbr\\u003e2=%{z}\\u003cextra\\u003e\\u003c\\u002fextra\\u003e\",\"legendgroup\":\"summer\",\"marker\":{\"color\":\"#FECB52\",\"symbol\":\"circle\"},\"mode\":\"markers\",\"name\":\"summer\",\"scene\":\"scene\",\"showlegend\":true,\"x\":[-0.16136059],\"y\":[-0.40984303],\"z\":[-0.23156705],\"type\":\"scatter3d\"},{\"hovertemplate\":\"color=tall\\u003cbr\\u003e0=%{x}\\u003cbr\\u003e1=%{y}\\u003cbr\\u003e2=%{z}\\u003cextra\\u003e\\u003c\\u002fextra\\u003e\",\"legendgroup\":\"tall\",\"marker\":{\"color\":\"#636efa\",\"symbol\":\"circle\"},\"mode\":\"markers\",\"name\":\"tall\",\"scene\":\"scene\",\"showlegend\":true,\"x\":[-0.5546628],\"y\":[-0.28064144],\"z\":[-0.05482781],\"type\":\"scatter3d\"},{\"hovertemplate\":\"color=held\\u003cbr\\u003e0=%{x}\\u003cbr\\u003e1=%{y}\\u003cbr\\u003e2=%{z}\\u003cextra\\u003e\\u003c\\u002fextra\\u003e\",\"legendgroup\":\"held\",\"marker\":{\"color\":\"#EF553B\",\"symbol\":\"circle\"},\"mode\":\"markers\",\"name\":\"held\",\"scene\":\"scene\",\"showlegend\":true,\"x\":[-0.28620508],\"y\":[0.41498637],\"z\":[-0.3725422],\"type\":\"scatter3d\"},{\"hovertemplate\":\"color=given\\u003cbr\\u003e0=%{x}\\u003cbr\\u003e1=%{y}\\u003cbr\\u003e2=%{z}\\u003cextra\\u003e\\u003c\\u002fextra\\u003e\",\"legendgroup\":\"given\",\"marker\":{\"color\":\"#00cc96\",\"symbol\":\"circle\"},\"mode\":\"markers\",\"name\":\"given\",\"scene\":\"scene\",\"showlegend\":true,\"x\":[0.48810136],\"y\":[0.037303388],\"z\":[-0.4522384],\"type\":\"scatter3d\"},{\"hovertemplate\":\"color=four\\u003cbr\\u003e0=%{x}\\u003cbr\\u003e1=%{y}\\u003cbr\\u003e2=%{z}\\u003cextra\\u003e\\u003c\\u002fextra\\u003e\",\"legendgroup\":\"four\",\"marker\":{\"color\":\"#ab63fa\",\"symbol\":\"circle\"},\"mode\":\"markers\",\"name\":\"four\",\"scene\":\"scene\",\"showlegend\":true,\"x\":[-0.031475887],\"y\":[-0.5935809],\"z\":[-0.108038455],\"type\":\"scatter3d\"},{\"hovertemplate\":\"color=please\\u003cbr\\u003e0=%{x}\\u003cbr\\u003e1=%{y}\\u003cbr\\u003e2=%{z}\\u003cextra\\u003e\\u003c\\u002fextra\\u003e\",\"legendgroup\":\"please\",\"marker\":{\"color\":\"#FFA15A\",\"symbol\":\"circle\"},\"mode\":\"markers\",\"name\":\"please\",\"scene\":\"scene\",\"showlegend\":true,\"x\":[0.68873537],\"y\":[0.34446466],\"z\":[-0.37698123],\"type\":\"scatter3d\"},{\"hovertemplate\":\"color=frey\\u003cbr\\u003e0=%{x}\\u003cbr\\u003e1=%{y}\\u003cbr\\u003e2=%{z}\\u003cextra\\u003e\\u003c\\u002fextra\\u003e\",\"legendgroup\":\"frey\",\"marker\":{\"color\":\"#19d3f3\",\"symbol\":\"circle\"},\"mode\":\"markers\",\"name\":\"frey\",\"scene\":\"scene\",\"showlegend\":true,\"x\":[0.42718542],\"y\":[-0.15595372],\"z\":[0.10503209],\"type\":\"scatter3d\"},{\"hovertemplate\":\"color=hold\\u003cbr\\u003e0=%{x}\\u003cbr\\u003e1=%{y}\\u003cbr\\u003e2=%{z}\\u003cextra\\u003e\\u003c\\u002fextra\\u003e\",\"legendgroup\":\"hold\",\"marker\":{\"color\":\"#FF6692\",\"symbol\":\"circle\"},\"mode\":\"markers\",\"name\":\"hold\",\"scene\":\"scene\",\"showlegend\":true,\"x\":[0.5502771],\"y\":[-0.08523598],\"z\":[-0.54818445],\"type\":\"scatter3d\"},{\"hovertemplate\":\"color=meant\\u003cbr\\u003e0=%{x}\\u003cbr\\u003e1=%{y}\\u003cbr\\u003e2=%{z}\\u003cextra\\u003e\\u003c\\u002fextra\\u003e\",\"legendgroup\":\"meant\",\"marker\":{\"color\":\"#B6E880\",\"symbol\":\"circle\"},\"mode\":\"markers\",\"name\":\"meant\",\"scene\":\"scene\",\"showlegend\":true,\"x\":[0.6467091],\"y\":[0.19102608],\"z\":[-0.48584682],\"type\":\"scatter3d\"},{\"hovertemplate\":\"color=skin\\u003cbr\\u003e0=%{x}\\u003cbr\\u003e1=%{y}\\u003cbr\\u003e2=%{z}\\u003cextra\\u003e\\u003c\\u002fextra\\u003e\",\"legendgroup\":\"skin\",\"marker\":{\"color\":\"#FF97FF\",\"symbol\":\"circle\"},\"mode\":\"markers\",\"name\":\"skin\",\"scene\":\"scene\",\"showlegend\":true,\"x\":[-0.57193226],\"y\":[0.13673909],\"z\":[-0.40015242],\"type\":\"scatter3d\"},{\"hovertemplate\":\"color=next\\u003cbr\\u003e0=%{x}\\u003cbr\\u003e1=%{y}\\u003cbr\\u003e2=%{z}\\u003cextra\\u003e\\u003c\\u002fextra\\u003e\",\"legendgroup\":\"next\",\"marker\":{\"color\":\"#FECB52\",\"symbol\":\"circle\"},\"mode\":\"markers\",\"name\":\"next\",\"scene\":\"scene\",\"showlegend\":true,\"x\":[0.19185908],\"y\":[-0.17421013],\"z\":[-0.613762],\"type\":\"scatter3d\"},{\"hovertemplate\":\"color=coming\\u003cbr\\u003e0=%{x}\\u003cbr\\u003e1=%{y}\\u003cbr\\u003e2=%{z}\\u003cextra\\u003e\\u003c\\u002fextra\\u003e\",\"legendgroup\":\"coming\",\"marker\":{\"color\":\"#636efa\",\"symbol\":\"circle\"},\"mode\":\"markers\",\"name\":\"coming\",\"scene\":\"scene\",\"showlegend\":true,\"x\":[-0.043998316],\"y\":[-0.368026],\"z\":[-0.54210913],\"type\":\"scatter3d\"},{\"hovertemplate\":\"color=gate\\u003cbr\\u003e0=%{x}\\u003cbr\\u003e1=%{y}\\u003cbr\\u003e2=%{z}\\u003cextra\\u003e\\u003c\\u002fextra\\u003e\",\"legendgroup\":\"gate\",\"marker\":{\"color\":\"#EF553B\",\"symbol\":\"circle\"},\"mode\":\"markers\",\"name\":\"gate\",\"scene\":\"scene\",\"showlegend\":true,\"x\":[-0.36821026],\"y\":[-0.5263074],\"z\":[-0.43724015],\"type\":\"scatter3d\"},{\"hovertemplate\":\"color=littlefinger\\u003cbr\\u003e0=%{x}\\u003cbr\\u003e1=%{y}\\u003cbr\\u003e2=%{z}\\u003cextra\\u003e\\u003c\\u002fextra\\u003e\",\"legendgroup\":\"littlefinger\",\"marker\":{\"color\":\"#00cc96\",\"symbol\":\"circle\"},\"mode\":\"markers\",\"name\":\"littlefinger\",\"scene\":\"scene\",\"showlegend\":true,\"x\":[0.2613141],\"y\":[0.16273282],\"z\":[-0.010134816],\"type\":\"scatter3d\"},{\"hovertemplate\":\"color=broken\\u003cbr\\u003e0=%{x}\\u003cbr\\u003e1=%{y}\\u003cbr\\u003e2=%{z}\\u003cextra\\u003e\\u003c\\u002fextra\\u003e\",\"legendgroup\":\"broken\",\"marker\":{\"color\":\"#ab63fa\",\"symbol\":\"circle\"},\"mode\":\"markers\",\"name\":\"broken\",\"scene\":\"scene\",\"showlegend\":true,\"x\":[-0.64586765],\"y\":[-0.25660628],\"z\":[-0.30235463],\"type\":\"scatter3d\"},{\"hovertemplate\":\"color=else\\u003cbr\\u003e0=%{x}\\u003cbr\\u003e1=%{y}\\u003cbr\\u003e2=%{z}\\u003cextra\\u003e\\u003c\\u002fextra\\u003e\",\"legendgroup\":\"else\",\"marker\":{\"color\":\"#FFA15A\",\"symbol\":\"circle\"},\"mode\":\"markers\",\"name\":\"else\",\"scene\":\"scene\",\"showlegend\":true,\"x\":[0.6463095],\"y\":[-0.036155283],\"z\":[-0.40267062],\"type\":\"scatter3d\"},{\"hovertemplate\":\"color=near\\u003cbr\\u003e0=%{x}\\u003cbr\\u003e1=%{y}\\u003cbr\\u003e2=%{z}\\u003cextra\\u003e\\u003c\\u002fextra\\u003e\",\"legendgroup\":\"near\",\"marker\":{\"color\":\"#19d3f3\",\"symbol\":\"circle\"},\"mode\":\"markers\",\"name\":\"near\",\"scene\":\"scene\",\"showlegend\":true,\"x\":[-0.20362893],\"y\":[-0.40876806],\"z\":[-0.20782992],\"type\":\"scatter3d\"},{\"hovertemplate\":\"color=morning\\u003cbr\\u003e0=%{x}\\u003cbr\\u003e1=%{y}\\u003cbr\\u003e2=%{z}\\u003cextra\\u003e\\u003c\\u002fextra\\u003e\",\"legendgroup\":\"morning\",\"marker\":{\"color\":\"#FF6692\",\"symbol\":\"circle\"},\"mode\":\"markers\",\"name\":\"morning\",\"scene\":\"scene\",\"showlegend\":true,\"x\":[-0.15695581],\"y\":[-0.28695914],\"z\":[-0.5334773],\"type\":\"scatter3d\"},{\"hovertemplate\":\"color=world\\u003cbr\\u003e0=%{x}\\u003cbr\\u003e1=%{y}\\u003cbr\\u003e2=%{z}\\u003cextra\\u003e\\u003c\\u002fextra\\u003e\",\"legendgroup\":\"world\",\"marker\":{\"color\":\"#B6E880\",\"symbol\":\"circle\"},\"mode\":\"markers\",\"name\":\"world\",\"scene\":\"scene\",\"showlegend\":true,\"x\":[0.016330436],\"y\":[-0.74988294],\"z\":[-0.41753036],\"type\":\"scatter3d\"},{\"hovertemplate\":\"color=south\\u003cbr\\u003e0=%{x}\\u003cbr\\u003e1=%{y}\\u003cbr\\u003e2=%{z}\\u003cextra\\u003e\\u003c\\u002fextra\\u003e\",\"legendgroup\":\"south\",\"marker\":{\"color\":\"#FF97FF\",\"symbol\":\"circle\"},\"mode\":\"markers\",\"name\":\"south\",\"scene\":\"scene\",\"showlegend\":true,\"x\":[-0.046156183],\"y\":[-0.6684869],\"z\":[-0.3660527],\"type\":\"scatter3d\"},{\"hovertemplate\":\"color=dragons\\u003cbr\\u003e0=%{x}\\u003cbr\\u003e1=%{y}\\u003cbr\\u003e2=%{z}\\u003cextra\\u003e\\u003c\\u002fextra\\u003e\",\"legendgroup\":\"dragons\",\"marker\":{\"color\":\"#FECB52\",\"symbol\":\"circle\"},\"mode\":\"markers\",\"name\":\"dragons\",\"scene\":\"scene\",\"showlegend\":true,\"x\":[0.22477886],\"y\":[-0.657289],\"z\":[-0.12994766],\"type\":\"scatter3d\"},{\"hovertemplate\":\"color=throne\\u003cbr\\u003e0=%{x}\\u003cbr\\u003e1=%{y}\\u003cbr\\u003e2=%{z}\\u003cextra\\u003e\\u003c\\u002fextra\\u003e\",\"legendgroup\":\"throne\",\"marker\":{\"color\":\"#636efa\",\"symbol\":\"circle\"},\"mode\":\"markers\",\"name\":\"throne\",\"scene\":\"scene\",\"showlegend\":true,\"x\":[0.18341994],\"y\":[-0.37147298],\"z\":[-0.3476971],\"type\":\"scatter3d\"},{\"hovertemplate\":\"color=steps\\u003cbr\\u003e0=%{x}\\u003cbr\\u003e1=%{y}\\u003cbr\\u003e2=%{z}\\u003cextra\\u003e\\u003c\\u002fextra\\u003e\",\"legendgroup\":\"steps\",\"marker\":{\"color\":\"#EF553B\",\"symbol\":\"circle\"},\"mode\":\"markers\",\"name\":\"steps\",\"scene\":\"scene\",\"showlegend\":true,\"x\":[-0.5422917],\"y\":[-0.21731332],\"z\":[-0.50524056],\"type\":\"scatter3d\"},{\"hovertemplate\":\"color=neck\\u003cbr\\u003e0=%{x}\\u003cbr\\u003e1=%{y}\\u003cbr\\u003e2=%{z}\\u003cextra\\u003e\\u003c\\u002fextra\\u003e\",\"legendgroup\":\"neck\",\"marker\":{\"color\":\"#00cc96\",\"symbol\":\"circle\"},\"mode\":\"markers\",\"name\":\"neck\",\"scene\":\"scene\",\"showlegend\":true,\"x\":[-0.56466883],\"y\":[0.054999337],\"z\":[-0.442705],\"type\":\"scatter3d\"},{\"hovertemplate\":\"color=someone\\u003cbr\\u003e0=%{x}\\u003cbr\\u003e1=%{y}\\u003cbr\\u003e2=%{z}\\u003cextra\\u003e\\u003c\\u002fextra\\u003e\",\"legendgroup\":\"someone\",\"marker\":{\"color\":\"#ab63fa\",\"symbol\":\"circle\"},\"mode\":\"markers\",\"name\":\"someone\",\"scene\":\"scene\",\"showlegend\":true,\"x\":[0.4644099],\"y\":[-0.03078276],\"z\":[-0.44907698],\"type\":\"scatter3d\"},{\"hovertemplate\":\"color=lysa\\u003cbr\\u003e0=%{x}\\u003cbr\\u003e1=%{y}\\u003cbr\\u003e2=%{z}\\u003cextra\\u003e\\u003c\\u002fextra\\u003e\",\"legendgroup\":\"lysa\",\"marker\":{\"color\":\"#FFA15A\",\"symbol\":\"circle\"},\"mode\":\"markers\",\"name\":\"lysa\",\"scene\":\"scene\",\"showlegend\":true,\"x\":[0.5120888],\"y\":[0.14851703],\"z\":[-0.094573855],\"type\":\"scatter3d\"},{\"hovertemplate\":\"color=watched\\u003cbr\\u003e0=%{x}\\u003cbr\\u003e1=%{y}\\u003cbr\\u003e2=%{z}\\u003cextra\\u003e\\u003c\\u002fextra\\u003e\",\"legendgroup\":\"watched\",\"marker\":{\"color\":\"#19d3f3\",\"symbol\":\"circle\"},\"mode\":\"markers\",\"name\":\"watched\",\"scene\":\"scene\",\"showlegend\":true,\"x\":[-0.21135238],\"y\":[0.2680909],\"z\":[-0.5647587],\"type\":\"scatter3d\"},{\"hovertemplate\":\"color=drogo\\u003cbr\\u003e0=%{x}\\u003cbr\\u003e1=%{y}\\u003cbr\\u003e2=%{z}\\u003cextra\\u003e\\u003c\\u002fextra\\u003e\",\"legendgroup\":\"drogo\",\"marker\":{\"color\":\"#FF6692\",\"symbol\":\"circle\"},\"mode\":\"markers\",\"name\":\"drogo\",\"scene\":\"scene\",\"showlegend\":true,\"x\":[0.13865674],\"y\":[-0.18079883],\"z\":[-0.2569813],\"type\":\"scatter3d\"},{\"hovertemplate\":\"color=hope\\u003cbr\\u003e0=%{x}\\u003cbr\\u003e1=%{y}\\u003cbr\\u003e2=%{z}\\u003cextra\\u003e\\u003c\\u002fextra\\u003e\",\"legendgroup\":\"hope\",\"marker\":{\"color\":\"#B6E880\",\"symbol\":\"circle\"},\"mode\":\"markers\",\"name\":\"hope\",\"scene\":\"scene\",\"showlegend\":true,\"x\":[0.7029434],\"y\":[-0.16348836],\"z\":[-0.4909485],\"type\":\"scatter3d\"},{\"hovertemplate\":\"color=golden\\u003cbr\\u003e0=%{x}\\u003cbr\\u003e1=%{y}\\u003cbr\\u003e2=%{z}\\u003cextra\\u003e\\u003c\\u002fextra\\u003e\",\"legendgroup\":\"golden\",\"marker\":{\"color\":\"#FF97FF\",\"symbol\":\"circle\"},\"mode\":\"markers\",\"name\":\"golden\",\"scene\":\"scene\",\"showlegend\":true,\"x\":[-0.46891958],\"y\":[-0.33044603],\"z\":[-0.012183785],\"type\":\"scatter3d\"},{\"hovertemplate\":\"color=raised\\u003cbr\\u003e0=%{x}\\u003cbr\\u003e1=%{y}\\u003cbr\\u003e2=%{z}\\u003cextra\\u003e\\u003c\\u002fextra\\u003e\",\"legendgroup\":\"raised\",\"marker\":{\"color\":\"#FECB52\",\"symbol\":\"circle\"},\"mode\":\"markers\",\"name\":\"raised\",\"scene\":\"scene\",\"showlegend\":true,\"x\":[-0.31448504],\"y\":[0.22785656],\"z\":[-0.31770337],\"type\":\"scatter3d\"},{\"hovertemplate\":\"color=talk\\u003cbr\\u003e0=%{x}\\u003cbr\\u003e1=%{y}\\u003cbr\\u003e2=%{z}\\u003cextra\\u003e\\u003c\\u002fextra\\u003e\",\"legendgroup\":\"talk\",\"marker\":{\"color\":\"#636efa\",\"symbol\":\"circle\"},\"mode\":\"markers\",\"name\":\"talk\",\"scene\":\"scene\",\"showlegend\":true,\"x\":[0.5961451],\"y\":[-0.069130495],\"z\":[-0.5589526],\"type\":\"scatter3d\"},{\"hovertemplate\":\"color=storm\\u003cbr\\u003e0=%{x}\\u003cbr\\u003e1=%{y}\\u003cbr\\u003e2=%{z}\\u003cextra\\u003e\\u003c\\u002fextra\\u003e\",\"legendgroup\":\"storm\",\"marker\":{\"color\":\"#EF553B\",\"symbol\":\"circle\"},\"mode\":\"markers\",\"name\":\"storm\",\"scene\":\"scene\",\"showlegend\":true,\"x\":[0.13317236],\"y\":[-0.48116195],\"z\":[-0.14804608],\"type\":\"scatter3d\"},{\"hovertemplate\":\"color=commander\\u003cbr\\u003e0=%{x}\\u003cbr\\u003e1=%{y}\\u003cbr\\u003e2=%{z}\\u003cextra\\u003e\\u003c\\u002fextra\\u003e\",\"legendgroup\":\"commander\",\"marker\":{\"color\":\"#00cc96\",\"symbol\":\"circle\"},\"mode\":\"markers\",\"name\":\"commander\",\"scene\":\"scene\",\"showlegend\":true,\"x\":[0.2931273],\"y\":[-0.25878978],\"z\":[-0.14161804],\"type\":\"scatter3d\"},{\"hovertemplate\":\"color=women\\u003cbr\\u003e0=%{x}\\u003cbr\\u003e1=%{y}\\u003cbr\\u003e2=%{z}\\u003cextra\\u003e\\u003c\\u002fextra\\u003e\",\"legendgroup\":\"women\",\"marker\":{\"color\":\"#ab63fa\",\"symbol\":\"circle\"},\"mode\":\"markers\",\"name\":\"women\",\"scene\":\"scene\",\"showlegend\":true,\"x\":[0.28806227],\"y\":[-0.6634109],\"z\":[-0.15345988],\"type\":\"scatter3d\"},{\"hovertemplate\":\"color=teeth\\u003cbr\\u003e0=%{x}\\u003cbr\\u003e1=%{y}\\u003cbr\\u003e2=%{z}\\u003cextra\\u003e\\u003c\\u002fextra\\u003e\",\"legendgroup\":\"teeth\",\"marker\":{\"color\":\"#FFA15A\",\"symbol\":\"circle\"},\"mode\":\"markers\",\"name\":\"teeth\",\"scene\":\"scene\",\"showlegend\":true,\"x\":[-0.52556103],\"y\":[0.16380744],\"z\":[-0.4771322],\"type\":\"scatter3d\"},{\"hovertemplate\":\"color=people\\u003cbr\\u003e0=%{x}\\u003cbr\\u003e1=%{y}\\u003cbr\\u003e2=%{z}\\u003cextra\\u003e\\u003c\\u002fextra\\u003e\",\"legendgroup\":\"people\",\"marker\":{\"color\":\"#19d3f3\",\"symbol\":\"circle\"},\"mode\":\"markers\",\"name\":\"people\",\"scene\":\"scene\",\"showlegend\":true,\"x\":[0.40961593],\"y\":[-0.64852333],\"z\":[-0.31835508],\"type\":\"scatter3d\"},{\"hovertemplate\":\"color=command\\u003cbr\\u003e0=%{x}\\u003cbr\\u003e1=%{y}\\u003cbr\\u003e2=%{z}\\u003cextra\\u003e\\u003c\\u002fextra\\u003e\",\"legendgroup\":\"command\",\"marker\":{\"color\":\"#FF6692\",\"symbol\":\"circle\"},\"mode\":\"markers\",\"name\":\"command\",\"scene\":\"scene\",\"showlegend\":true,\"x\":[0.6213813],\"y\":[-0.20443973],\"z\":[-0.2803647],\"type\":\"scatter3d\"},{\"hovertemplate\":\"color=shadow\\u003cbr\\u003e0=%{x}\\u003cbr\\u003e1=%{y}\\u003cbr\\u003e2=%{z}\\u003cextra\\u003e\\u003c\\u002fextra\\u003e\",\"legendgroup\":\"shadow\",\"marker\":{\"color\":\"#B6E880\",\"symbol\":\"circle\"},\"mode\":\"markers\",\"name\":\"shadow\",\"scene\":\"scene\",\"showlegend\":true,\"x\":[-0.4074707],\"y\":[-0.5236954],\"z\":[-0.344105],\"type\":\"scatter3d\"},{\"hovertemplate\":\"color=caught\\u003cbr\\u003e0=%{x}\\u003cbr\\u003e1=%{y}\\u003cbr\\u003e2=%{z}\\u003cextra\\u003e\\u003c\\u002fextra\\u003e\",\"legendgroup\":\"caught\",\"marker\":{\"color\":\"#FF97FF\",\"symbol\":\"circle\"},\"mode\":\"markers\",\"name\":\"caught\",\"scene\":\"scene\",\"showlegend\":true,\"x\":[-0.3703317],\"y\":[0.3230449],\"z\":[-0.6050373],\"type\":\"scatter3d\"},{\"hovertemplate\":\"color=brown\\u003cbr\\u003e0=%{x}\\u003cbr\\u003e1=%{y}\\u003cbr\\u003e2=%{z}\\u003cextra\\u003e\\u003c\\u002fextra\\u003e\",\"legendgroup\":\"brown\",\"marker\":{\"color\":\"#FECB52\",\"symbol\":\"circle\"},\"mode\":\"markers\",\"name\":\"brown\",\"scene\":\"scene\",\"showlegend\":true,\"x\":[-0.5999362],\"y\":[-0.07425165],\"z\":[-0.067572296],\"type\":\"scatter3d\"},{\"hovertemplate\":\"color=matter\\u003cbr\\u003e0=%{x}\\u003cbr\\u003e1=%{y}\\u003cbr\\u003e2=%{z}\\u003cextra\\u003e\\u003c\\u002fextra\\u003e\",\"legendgroup\":\"matter\",\"marker\":{\"color\":\"#636efa\",\"symbol\":\"circle\"},\"mode\":\"markers\",\"name\":\"matter\",\"scene\":\"scene\",\"showlegend\":true,\"x\":[0.65468895],\"y\":[-0.14382951],\"z\":[-0.400653],\"type\":\"scatter3d\"},{\"hovertemplate\":\"color=armor\\u003cbr\\u003e0=%{x}\\u003cbr\\u003e1=%{y}\\u003cbr\\u003e2=%{z}\\u003cextra\\u003e\\u003c\\u002fextra\\u003e\",\"legendgroup\":\"armor\",\"marker\":{\"color\":\"#EF553B\",\"symbol\":\"circle\"},\"mode\":\"markers\",\"name\":\"armor\",\"scene\":\"scene\",\"showlegend\":true,\"x\":[-0.3743878],\"y\":[-0.28678623],\"z\":[-0.11538449],\"type\":\"scatter3d\"},{\"hovertemplate\":\"color=leather\\u003cbr\\u003e0=%{x}\\u003cbr\\u003e1=%{y}\\u003cbr\\u003e2=%{z}\\u003cextra\\u003e\\u003c\\u002fextra\\u003e\",\"legendgroup\":\"leather\",\"marker\":{\"color\":\"#00cc96\",\"symbol\":\"circle\"},\"mode\":\"markers\",\"name\":\"leather\",\"scene\":\"scene\",\"showlegend\":true,\"x\":[-0.6763774],\"y\":[-0.15726964],\"z\":[-0.12752306],\"type\":\"scatter3d\"},{\"hovertemplate\":\"color=shoulder\\u003cbr\\u003e0=%{x}\\u003cbr\\u003e1=%{y}\\u003cbr\\u003e2=%{z}\\u003cextra\\u003e\\u003c\\u002fextra\\u003e\",\"legendgroup\":\"shoulder\",\"marker\":{\"color\":\"#ab63fa\",\"symbol\":\"circle\"},\"mode\":\"markers\",\"name\":\"shoulder\",\"scene\":\"scene\",\"showlegend\":true,\"x\":[-0.51726234],\"y\":[0.25988305],\"z\":[-0.4636525],\"type\":\"scatter3d\"},{\"hovertemplate\":\"color=second\\u003cbr\\u003e0=%{x}\\u003cbr\\u003e1=%{y}\\u003cbr\\u003e2=%{z}\\u003cextra\\u003e\\u003c\\u002fextra\\u003e\",\"legendgroup\":\"second\",\"marker\":{\"color\":\"#FFA15A\",\"symbol\":\"circle\"},\"mode\":\"markers\",\"name\":\"second\",\"scene\":\"scene\",\"showlegend\":true,\"x\":[-0.016803175],\"y\":[-0.16011682],\"z\":[-0.1389716],\"type\":\"scatter3d\"},{\"hovertemplate\":\"color=believe\\u003cbr\\u003e0=%{x}\\u003cbr\\u003e1=%{y}\\u003cbr\\u003e2=%{z}\\u003cextra\\u003e\\u003c\\u002fextra\\u003e\",\"legendgroup\":\"believe\",\"marker\":{\"color\":\"#19d3f3\",\"symbol\":\"circle\"},\"mode\":\"markers\",\"name\":\"believe\",\"scene\":\"scene\",\"showlegend\":true,\"x\":[0.80048615],\"y\":[0.029758334],\"z\":[-0.42632368],\"type\":\"scatter3d\"},{\"hovertemplate\":\"color=bronn\\u003cbr\\u003e0=%{x}\\u003cbr\\u003e1=%{y}\\u003cbr\\u003e2=%{z}\\u003cextra\\u003e\\u003c\\u002fextra\\u003e\",\"legendgroup\":\"bronn\",\"marker\":{\"color\":\"#FF6692\",\"symbol\":\"circle\"},\"mode\":\"markers\",\"name\":\"bronn\",\"scene\":\"scene\",\"showlegend\":true,\"x\":[-0.039110944],\"y\":[0.030715927],\"z\":[-0.105424255],\"type\":\"scatter3d\"},{\"hovertemplate\":\"color=since\\u003cbr\\u003e0=%{x}\\u003cbr\\u003e1=%{y}\\u003cbr\\u003e2=%{z}\\u003cextra\\u003e\\u003c\\u002fextra\\u003e\",\"legendgroup\":\"since\",\"marker\":{\"color\":\"#B6E880\",\"symbol\":\"circle\"},\"mode\":\"markers\",\"name\":\"since\",\"scene\":\"scene\",\"showlegend\":true,\"x\":[0.3626331],\"y\":[-0.15789285],\"z\":[-0.42586538],\"type\":\"scatter3d\"},{\"hovertemplate\":\"color=ask\\u003cbr\\u003e0=%{x}\\u003cbr\\u003e1=%{y}\\u003cbr\\u003e2=%{z}\\u003cextra\\u003e\\u003c\\u002fextra\\u003e\",\"legendgroup\":\"ask\",\"marker\":{\"color\":\"#FF97FF\",\"symbol\":\"circle\"},\"mode\":\"markers\",\"name\":\"ask\",\"scene\":\"scene\",\"showlegend\":true,\"x\":[0.8269674],\"y\":[0.10893901],\"z\":[-0.44843674],\"type\":\"scatter3d\"},{\"hovertemplate\":\"color=blade\\u003cbr\\u003e0=%{x}\\u003cbr\\u003e1=%{y}\\u003cbr\\u003e2=%{z}\\u003cextra\\u003e\\u003c\\u002fextra\\u003e\",\"legendgroup\":\"blade\",\"marker\":{\"color\":\"#FECB52\",\"symbol\":\"circle\"},\"mode\":\"markers\",\"name\":\"blade\",\"scene\":\"scene\",\"showlegend\":true,\"x\":[-0.5452905],\"y\":[0.092981264],\"z\":[-0.42763323],\"type\":\"scatter3d\"},{\"hovertemplate\":\"color=opened\\u003cbr\\u003e0=%{x}\\u003cbr\\u003e1=%{y}\\u003cbr\\u003e2=%{z}\\u003cextra\\u003e\\u003c\\u002fextra\\u003e\",\"legendgroup\":\"opened\",\"marker\":{\"color\":\"#636efa\",\"symbol\":\"circle\"},\"mode\":\"markers\",\"name\":\"opened\",\"scene\":\"scene\",\"showlegend\":true,\"x\":[-0.511825],\"y\":[0.29469502],\"z\":[-0.4804715],\"type\":\"scatter3d\"},{\"hovertemplate\":\"color=which\\u003cbr\\u003e0=%{x}\\u003cbr\\u003e1=%{y}\\u003cbr\\u003e2=%{z}\\u003cextra\\u003e\\u003c\\u002fextra\\u003e\",\"legendgroup\":\"which\",\"marker\":{\"color\":\"#EF553B\",\"symbol\":\"circle\"},\"mode\":\"markers\",\"name\":\"which\",\"scene\":\"scene\",\"showlegend\":true,\"x\":[0.5038464],\"y\":[-0.29211345],\"z\":[-0.18441197],\"type\":\"scatter3d\"},{\"hovertemplate\":\"color=foot\\u003cbr\\u003e0=%{x}\\u003cbr\\u003e1=%{y}\\u003cbr\\u003e2=%{z}\\u003cextra\\u003e\\u003c\\u002fextra\\u003e\",\"legendgroup\":\"foot\",\"marker\":{\"color\":\"#00cc96\",\"symbol\":\"circle\"},\"mode\":\"markers\",\"name\":\"foot\",\"scene\":\"scene\",\"showlegend\":true,\"x\":[-0.53243184],\"y\":[-0.2939954],\"z\":[-0.3836764],\"type\":\"scatter3d\"},{\"hovertemplate\":\"color=ghost\\u003cbr\\u003e0=%{x}\\u003cbr\\u003e1=%{y}\\u003cbr\\u003e2=%{z}\\u003cextra\\u003e\\u003c\\u002fextra\\u003e\",\"legendgroup\":\"ghost\",\"marker\":{\"color\":\"#ab63fa\",\"symbol\":\"circle\"},\"mode\":\"markers\",\"name\":\"ghost\",\"scene\":\"scene\",\"showlegend\":true,\"x\":[-0.3796149],\"y\":[0.0989701],\"z\":[-0.36452115],\"type\":\"scatter3d\"},{\"hovertemplate\":\"color=pie\\u003cbr\\u003e0=%{x}\\u003cbr\\u003e1=%{y}\\u003cbr\\u003e2=%{z}\\u003cextra\\u003e\\u003c\\u002fextra\\u003e\",\"legendgroup\":\"pie\",\"marker\":{\"color\":\"#FFA15A\",\"symbol\":\"circle\"},\"mode\":\"markers\",\"name\":\"pie\",\"scene\":\"scene\",\"showlegend\":true,\"x\":[-0.188903],\"y\":[0.2010635],\"z\":[-0.4805076],\"type\":\"scatter3d\"},{\"hovertemplate\":\"color=khal\\u003cbr\\u003e0=%{x}\\u003cbr\\u003e1=%{y}\\u003cbr\\u003e2=%{z}\\u003cextra\\u003e\\u003c\\u002fextra\\u003e\",\"legendgroup\":\"khal\",\"marker\":{\"color\":\"#19d3f3\",\"symbol\":\"circle\"},\"mode\":\"markers\",\"name\":\"khal\",\"scene\":\"scene\",\"showlegend\":true,\"x\":[0.27877533],\"y\":[-0.2762313],\"z\":[-0.20563051],\"type\":\"scatter3d\"},{\"hovertemplate\":\"color=closed\\u003cbr\\u003e0=%{x}\\u003cbr\\u003e1=%{y}\\u003cbr\\u003e2=%{z}\\u003cextra\\u003e\\u003c\\u002fextra\\u003e\",\"legendgroup\":\"closed\",\"marker\":{\"color\":\"#FF6692\",\"symbol\":\"circle\"},\"mode\":\"markers\",\"name\":\"closed\",\"scene\":\"scene\",\"showlegend\":true,\"x\":[-0.5427961],\"y\":[0.21108903],\"z\":[-0.37087208],\"type\":\"scatter3d\"},{\"hovertemplate\":\"color=shouted\\u003cbr\\u003e0=%{x}\\u003cbr\\u003e1=%{y}\\u003cbr\\u003e2=%{z}\\u003cextra\\u003e\\u003c\\u002fextra\\u003e\",\"legendgroup\":\"shouted\",\"marker\":{\"color\":\"#B6E880\",\"symbol\":\"circle\"},\"mode\":\"markers\",\"name\":\"shouted\",\"scene\":\"scene\",\"showlegend\":true,\"x\":[-0.07607894],\"y\":[0.45705503],\"z\":[-0.47574118],\"type\":\"scatter3d\"},{\"hovertemplate\":\"color=luwin\\u003cbr\\u003e0=%{x}\\u003cbr\\u003e1=%{y}\\u003cbr\\u003e2=%{z}\\u003cextra\\u003e\\u003c\\u002fextra\\u003e\",\"legendgroup\":\"luwin\",\"marker\":{\"color\":\"#FF97FF\",\"symbol\":\"circle\"},\"mode\":\"markers\",\"name\":\"luwin\",\"scene\":\"scene\",\"showlegend\":true,\"x\":[0.1272501],\"y\":[0.24754138],\"z\":[-0.25823134],\"type\":\"scatter3d\"},{\"hovertemplate\":\"color=fat\\u003cbr\\u003e0=%{x}\\u003cbr\\u003e1=%{y}\\u003cbr\\u003e2=%{z}\\u003cextra\\u003e\\u003c\\u002fextra\\u003e\",\"legendgroup\":\"fat\",\"marker\":{\"color\":\"#FECB52\",\"symbol\":\"circle\"},\"mode\":\"markers\",\"name\":\"fat\",\"scene\":\"scene\",\"showlegend\":true,\"x\":[-0.10618955],\"y\":[0.1319939],\"z\":[0.025424182],\"type\":\"scatter3d\"},{\"hovertemplate\":\"color=wore\\u003cbr\\u003e0=%{x}\\u003cbr\\u003e1=%{y}\\u003cbr\\u003e2=%{z}\\u003cextra\\u003e\\u003c\\u002fextra\\u003e\",\"legendgroup\":\"wore\",\"marker\":{\"color\":\"#636efa\",\"symbol\":\"circle\"},\"mode\":\"markers\",\"name\":\"wore\",\"scene\":\"scene\",\"showlegend\":true,\"x\":[-0.42987126],\"y\":[-0.049192518],\"z\":[-0.119847],\"type\":\"scatter3d\"},{\"hovertemplate\":\"color=times\\u003cbr\\u003e0=%{x}\\u003cbr\\u003e1=%{y}\\u003cbr\\u003e2=%{z}\\u003cextra\\u003e\\u003c\\u002fextra\\u003e\",\"legendgroup\":\"times\",\"marker\":{\"color\":\"#EF553B\",\"symbol\":\"circle\"},\"mode\":\"markers\",\"name\":\"times\",\"scene\":\"scene\",\"showlegend\":true,\"x\":[0.36899665],\"y\":[-0.60725665],\"z\":[-0.30785817],\"type\":\"scatter3d\"},{\"hovertemplate\":\"color=safe\\u003cbr\\u003e0=%{x}\\u003cbr\\u003e1=%{y}\\u003cbr\\u003e2=%{z}\\u003cextra\\u003e\\u003c\\u002fextra\\u003e\",\"legendgroup\":\"safe\",\"marker\":{\"color\":\"#00cc96\",\"symbol\":\"circle\"},\"mode\":\"markers\",\"name\":\"safe\",\"scene\":\"scene\",\"showlegend\":true,\"x\":[0.52454525],\"y\":[-0.22428164],\"z\":[-0.39750272],\"type\":\"scatter3d\"},{\"hovertemplate\":\"color=lannisters\\u003cbr\\u003e0=%{x}\\u003cbr\\u003e1=%{y}\\u003cbr\\u003e2=%{z}\\u003cextra\\u003e\\u003c\\u002fextra\\u003e\",\"legendgroup\":\"lannisters\",\"marker\":{\"color\":\"#ab63fa\",\"symbol\":\"circle\"},\"mode\":\"markers\",\"name\":\"lannisters\",\"scene\":\"scene\",\"showlegend\":true,\"x\":[0.5748782],\"y\":[-0.5912017],\"z\":[-0.26020455],\"type\":\"scatter3d\"},{\"hovertemplate\":\"color=cloaks\\u003cbr\\u003e0=%{x}\\u003cbr\\u003e1=%{y}\\u003cbr\\u003e2=%{z}\\u003cextra\\u003e\\u003c\\u002fextra\\u003e\",\"legendgroup\":\"cloaks\",\"marker\":{\"color\":\"#FFA15A\",\"symbol\":\"circle\"},\"mode\":\"markers\",\"name\":\"cloaks\",\"scene\":\"scene\",\"showlegend\":true,\"x\":[-0.26064843],\"y\":[-0.4979807],\"z\":[-0.18097693],\"type\":\"scatter3d\"},{\"hovertemplate\":\"color=sky\\u003cbr\\u003e0=%{x}\\u003cbr\\u003e1=%{y}\\u003cbr\\u003e2=%{z}\\u003cextra\\u003e\\u003c\\u002fextra\\u003e\",\"legendgroup\":\"sky\",\"marker\":{\"color\":\"#19d3f3\",\"symbol\":\"circle\"},\"mode\":\"markers\",\"name\":\"sky\",\"scene\":\"scene\",\"showlegend\":true,\"x\":[-0.5893368],\"y\":[-0.42160302],\"z\":[-0.2851016],\"type\":\"scatter3d\"},{\"hovertemplate\":\"color=outside\\u003cbr\\u003e0=%{x}\\u003cbr\\u003e1=%{y}\\u003cbr\\u003e2=%{z}\\u003cextra\\u003e\\u003c\\u002fextra\\u003e\",\"legendgroup\":\"outside\",\"marker\":{\"color\":\"#FF6692\",\"symbol\":\"circle\"},\"mode\":\"markers\",\"name\":\"outside\",\"scene\":\"scene\",\"showlegend\":true,\"x\":[-0.42250854],\"y\":[-0.39752582],\"z\":[-0.30407497],\"type\":\"scatter3d\"},{\"hovertemplate\":\"color=kept\\u003cbr\\u003e0=%{x}\\u003cbr\\u003e1=%{y}\\u003cbr\\u003e2=%{z}\\u003cextra\\u003e\\u003c\\u002fextra\\u003e\",\"legendgroup\":\"kept\",\"marker\":{\"color\":\"#B6E880\",\"symbol\":\"circle\"},\"mode\":\"markers\",\"name\":\"kept\",\"scene\":\"scene\",\"showlegend\":true,\"x\":[-0.045838818],\"y\":[0.22916351],\"z\":[-0.63539916],\"type\":\"scatter3d\"},{\"hovertemplate\":\"color=cup\\u003cbr\\u003e0=%{x}\\u003cbr\\u003e1=%{y}\\u003cbr\\u003e2=%{z}\\u003cextra\\u003e\\u003c\\u002fextra\\u003e\",\"legendgroup\":\"cup\",\"marker\":{\"color\":\"#FF97FF\",\"symbol\":\"circle\"},\"mode\":\"markers\",\"name\":\"cup\",\"scene\":\"scene\",\"showlegend\":true,\"x\":[-0.15694943],\"y\":[0.3989104],\"z\":[-0.32316393],\"type\":\"scatter3d\"},{\"hovertemplate\":\"color=tongue\\u003cbr\\u003e0=%{x}\\u003cbr\\u003e1=%{y}\\u003cbr\\u003e2=%{z}\\u003cextra\\u003e\\u003c\\u002fextra\\u003e\",\"legendgroup\":\"tongue\",\"marker\":{\"color\":\"#FECB52\",\"symbol\":\"circle\"},\"mode\":\"markers\",\"name\":\"tongue\",\"scene\":\"scene\",\"showlegend\":true,\"x\":[0.09120988],\"y\":[0.05791676],\"z\":[-0.42361915],\"type\":\"scatter3d\"}],                        {\"template\":{\"data\":{\"histogram2dcontour\":[{\"type\":\"histogram2dcontour\",\"colorbar\":{\"outlinewidth\":0,\"ticks\":\"\"},\"colorscale\":[[0.0,\"#0d0887\"],[0.1111111111111111,\"#46039f\"],[0.2222222222222222,\"#7201a8\"],[0.3333333333333333,\"#9c179e\"],[0.4444444444444444,\"#bd3786\"],[0.5555555555555556,\"#d8576b\"],[0.6666666666666666,\"#ed7953\"],[0.7777777777777778,\"#fb9f3a\"],[0.8888888888888888,\"#fdca26\"],[1.0,\"#f0f921\"]]}],\"choropleth\":[{\"type\":\"choropleth\",\"colorbar\":{\"outlinewidth\":0,\"ticks\":\"\"}}],\"histogram2d\":[{\"type\":\"histogram2d\",\"colorbar\":{\"outlinewidth\":0,\"ticks\":\"\"},\"colorscale\":[[0.0,\"#0d0887\"],[0.1111111111111111,\"#46039f\"],[0.2222222222222222,\"#7201a8\"],[0.3333333333333333,\"#9c179e\"],[0.4444444444444444,\"#bd3786\"],[0.5555555555555556,\"#d8576b\"],[0.6666666666666666,\"#ed7953\"],[0.7777777777777778,\"#fb9f3a\"],[0.8888888888888888,\"#fdca26\"],[1.0,\"#f0f921\"]]}],\"heatmap\":[{\"type\":\"heatmap\",\"colorbar\":{\"outlinewidth\":0,\"ticks\":\"\"},\"colorscale\":[[0.0,\"#0d0887\"],[0.1111111111111111,\"#46039f\"],[0.2222222222222222,\"#7201a8\"],[0.3333333333333333,\"#9c179e\"],[0.4444444444444444,\"#bd3786\"],[0.5555555555555556,\"#d8576b\"],[0.6666666666666666,\"#ed7953\"],[0.7777777777777778,\"#fb9f3a\"],[0.8888888888888888,\"#fdca26\"],[1.0,\"#f0f921\"]]}],\"heatmapgl\":[{\"type\":\"heatmapgl\",\"colorbar\":{\"outlinewidth\":0,\"ticks\":\"\"},\"colorscale\":[[0.0,\"#0d0887\"],[0.1111111111111111,\"#46039f\"],[0.2222222222222222,\"#7201a8\"],[0.3333333333333333,\"#9c179e\"],[0.4444444444444444,\"#bd3786\"],[0.5555555555555556,\"#d8576b\"],[0.6666666666666666,\"#ed7953\"],[0.7777777777777778,\"#fb9f3a\"],[0.8888888888888888,\"#fdca26\"],[1.0,\"#f0f921\"]]}],\"contourcarpet\":[{\"type\":\"contourcarpet\",\"colorbar\":{\"outlinewidth\":0,\"ticks\":\"\"}}],\"contour\":[{\"type\":\"contour\",\"colorbar\":{\"outlinewidth\":0,\"ticks\":\"\"},\"colorscale\":[[0.0,\"#0d0887\"],[0.1111111111111111,\"#46039f\"],[0.2222222222222222,\"#7201a8\"],[0.3333333333333333,\"#9c179e\"],[0.4444444444444444,\"#bd3786\"],[0.5555555555555556,\"#d8576b\"],[0.6666666666666666,\"#ed7953\"],[0.7777777777777778,\"#fb9f3a\"],[0.8888888888888888,\"#fdca26\"],[1.0,\"#f0f921\"]]}],\"surface\":[{\"type\":\"surface\",\"colorbar\":{\"outlinewidth\":0,\"ticks\":\"\"},\"colorscale\":[[0.0,\"#0d0887\"],[0.1111111111111111,\"#46039f\"],[0.2222222222222222,\"#7201a8\"],[0.3333333333333333,\"#9c179e\"],[0.4444444444444444,\"#bd3786\"],[0.5555555555555556,\"#d8576b\"],[0.6666666666666666,\"#ed7953\"],[0.7777777777777778,\"#fb9f3a\"],[0.8888888888888888,\"#fdca26\"],[1.0,\"#f0f921\"]]}],\"mesh3d\":[{\"type\":\"mesh3d\",\"colorbar\":{\"outlinewidth\":0,\"ticks\":\"\"}}],\"scatter\":[{\"fillpattern\":{\"fillmode\":\"overlay\",\"size\":10,\"solidity\":0.2},\"type\":\"scatter\"}],\"parcoords\":[{\"type\":\"parcoords\",\"line\":{\"colorbar\":{\"outlinewidth\":0,\"ticks\":\"\"}}}],\"scatterpolargl\":[{\"type\":\"scatterpolargl\",\"marker\":{\"colorbar\":{\"outlinewidth\":0,\"ticks\":\"\"}}}],\"bar\":[{\"error_x\":{\"color\":\"#2a3f5f\"},\"error_y\":{\"color\":\"#2a3f5f\"},\"marker\":{\"line\":{\"color\":\"#E5ECF6\",\"width\":0.5},\"pattern\":{\"fillmode\":\"overlay\",\"size\":10,\"solidity\":0.2}},\"type\":\"bar\"}],\"scattergeo\":[{\"type\":\"scattergeo\",\"marker\":{\"colorbar\":{\"outlinewidth\":0,\"ticks\":\"\"}}}],\"scatterpolar\":[{\"type\":\"scatterpolar\",\"marker\":{\"colorbar\":{\"outlinewidth\":0,\"ticks\":\"\"}}}],\"histogram\":[{\"marker\":{\"pattern\":{\"fillmode\":\"overlay\",\"size\":10,\"solidity\":0.2}},\"type\":\"histogram\"}],\"scattergl\":[{\"type\":\"scattergl\",\"marker\":{\"colorbar\":{\"outlinewidth\":0,\"ticks\":\"\"}}}],\"scatter3d\":[{\"type\":\"scatter3d\",\"line\":{\"colorbar\":{\"outlinewidth\":0,\"ticks\":\"\"}},\"marker\":{\"colorbar\":{\"outlinewidth\":0,\"ticks\":\"\"}}}],\"scattermapbox\":[{\"type\":\"scattermapbox\",\"marker\":{\"colorbar\":{\"outlinewidth\":0,\"ticks\":\"\"}}}],\"scatterternary\":[{\"type\":\"scatterternary\",\"marker\":{\"colorbar\":{\"outlinewidth\":0,\"ticks\":\"\"}}}],\"scattercarpet\":[{\"type\":\"scattercarpet\",\"marker\":{\"colorbar\":{\"outlinewidth\":0,\"ticks\":\"\"}}}],\"carpet\":[{\"aaxis\":{\"endlinecolor\":\"#2a3f5f\",\"gridcolor\":\"white\",\"linecolor\":\"white\",\"minorgridcolor\":\"white\",\"startlinecolor\":\"#2a3f5f\"},\"baxis\":{\"endlinecolor\":\"#2a3f5f\",\"gridcolor\":\"white\",\"linecolor\":\"white\",\"minorgridcolor\":\"white\",\"startlinecolor\":\"#2a3f5f\"},\"type\":\"carpet\"}],\"table\":[{\"cells\":{\"fill\":{\"color\":\"#EBF0F8\"},\"line\":{\"color\":\"white\"}},\"header\":{\"fill\":{\"color\":\"#C8D4E3\"},\"line\":{\"color\":\"white\"}},\"type\":\"table\"}],\"barpolar\":[{\"marker\":{\"line\":{\"color\":\"#E5ECF6\",\"width\":0.5},\"pattern\":{\"fillmode\":\"overlay\",\"size\":10,\"solidity\":0.2}},\"type\":\"barpolar\"}],\"pie\":[{\"automargin\":true,\"type\":\"pie\"}]},\"layout\":{\"autotypenumbers\":\"strict\",\"colorway\":[\"#636efa\",\"#EF553B\",\"#00cc96\",\"#ab63fa\",\"#FFA15A\",\"#19d3f3\",\"#FF6692\",\"#B6E880\",\"#FF97FF\",\"#FECB52\"],\"font\":{\"color\":\"#2a3f5f\"},\"hovermode\":\"closest\",\"hoverlabel\":{\"align\":\"left\"},\"paper_bgcolor\":\"white\",\"plot_bgcolor\":\"#E5ECF6\",\"polar\":{\"bgcolor\":\"#E5ECF6\",\"angularaxis\":{\"gridcolor\":\"white\",\"linecolor\":\"white\",\"ticks\":\"\"},\"radialaxis\":{\"gridcolor\":\"white\",\"linecolor\":\"white\",\"ticks\":\"\"}},\"ternary\":{\"bgcolor\":\"#E5ECF6\",\"aaxis\":{\"gridcolor\":\"white\",\"linecolor\":\"white\",\"ticks\":\"\"},\"baxis\":{\"gridcolor\":\"white\",\"linecolor\":\"white\",\"ticks\":\"\"},\"caxis\":{\"gridcolor\":\"white\",\"linecolor\":\"white\",\"ticks\":\"\"}},\"coloraxis\":{\"colorbar\":{\"outlinewidth\":0,\"ticks\":\"\"}},\"colorscale\":{\"sequential\":[[0.0,\"#0d0887\"],[0.1111111111111111,\"#46039f\"],[0.2222222222222222,\"#7201a8\"],[0.3333333333333333,\"#9c179e\"],[0.4444444444444444,\"#bd3786\"],[0.5555555555555556,\"#d8576b\"],[0.6666666666666666,\"#ed7953\"],[0.7777777777777778,\"#fb9f3a\"],[0.8888888888888888,\"#fdca26\"],[1.0,\"#f0f921\"]],\"sequentialminus\":[[0.0,\"#0d0887\"],[0.1111111111111111,\"#46039f\"],[0.2222222222222222,\"#7201a8\"],[0.3333333333333333,\"#9c179e\"],[0.4444444444444444,\"#bd3786\"],[0.5555555555555556,\"#d8576b\"],[0.6666666666666666,\"#ed7953\"],[0.7777777777777778,\"#fb9f3a\"],[0.8888888888888888,\"#fdca26\"],[1.0,\"#f0f921\"]],\"diverging\":[[0,\"#8e0152\"],[0.1,\"#c51b7d\"],[0.2,\"#de77ae\"],[0.3,\"#f1b6da\"],[0.4,\"#fde0ef\"],[0.5,\"#f7f7f7\"],[0.6,\"#e6f5d0\"],[0.7,\"#b8e186\"],[0.8,\"#7fbc41\"],[0.9,\"#4d9221\"],[1,\"#276419\"]]},\"xaxis\":{\"gridcolor\":\"white\",\"linecolor\":\"white\",\"ticks\":\"\",\"title\":{\"standoff\":15},\"zerolinecolor\":\"white\",\"automargin\":true,\"zerolinewidth\":2},\"yaxis\":{\"gridcolor\":\"white\",\"linecolor\":\"white\",\"ticks\":\"\",\"title\":{\"standoff\":15},\"zerolinecolor\":\"white\",\"automargin\":true,\"zerolinewidth\":2},\"scene\":{\"xaxis\":{\"backgroundcolor\":\"#E5ECF6\",\"gridcolor\":\"white\",\"linecolor\":\"white\",\"showbackground\":true,\"ticks\":\"\",\"zerolinecolor\":\"white\",\"gridwidth\":2},\"yaxis\":{\"backgroundcolor\":\"#E5ECF6\",\"gridcolor\":\"white\",\"linecolor\":\"white\",\"showbackground\":true,\"ticks\":\"\",\"zerolinecolor\":\"white\",\"gridwidth\":2},\"zaxis\":{\"backgroundcolor\":\"#E5ECF6\",\"gridcolor\":\"white\",\"linecolor\":\"white\",\"showbackground\":true,\"ticks\":\"\",\"zerolinecolor\":\"white\",\"gridwidth\":2}},\"shapedefaults\":{\"line\":{\"color\":\"#2a3f5f\"}},\"annotationdefaults\":{\"arrowcolor\":\"#2a3f5f\",\"arrowhead\":0,\"arrowwidth\":1},\"geo\":{\"bgcolor\":\"white\",\"landcolor\":\"#E5ECF6\",\"subunitcolor\":\"white\",\"showland\":true,\"showlakes\":true,\"lakecolor\":\"white\"},\"title\":{\"x\":0.05},\"mapbox\":{\"style\":\"light\"}}},\"scene\":{\"domain\":{\"x\":[0.0,1.0],\"y\":[0.0,1.0]},\"xaxis\":{\"title\":{\"text\":\"0\"}},\"yaxis\":{\"title\":{\"text\":\"1\"}},\"zaxis\":{\"title\":{\"text\":\"2\"}}},\"legend\":{\"title\":{\"text\":\"color\"},\"tracegroupgap\":0},\"margin\":{\"t\":60}},                        {\"responsive\": true}                    ).then(function(){\n",
              "                            \n",
              "var gd = document.getElementById('e1412305-5808-46b7-a56c-05312e7b0112');\n",
              "var x = new MutationObserver(function (mutations, observer) {{\n",
              "        var display = window.getComputedStyle(gd).display;\n",
              "        if (!display || display === 'none') {{\n",
              "            console.log([gd, 'removed!']);\n",
              "            Plotly.purge(gd);\n",
              "            observer.disconnect();\n",
              "        }}\n",
              "}});\n",
              "\n",
              "// Listen for the removal of the full notebook cells\n",
              "var notebookContainer = gd.closest('#notebook-container');\n",
              "if (notebookContainer) {{\n",
              "    x.observe(notebookContainer, {childList: true});\n",
              "}}\n",
              "\n",
              "// Listen for the clearing of the current output cell\n",
              "var outputEl = gd.closest('.output');\n",
              "if (outputEl) {{\n",
              "    x.observe(outputEl, {childList: true});\n",
              "}}\n",
              "\n",
              "                        })                };                            </script>        </div>\n",
              "</body>\n",
              "</html>"
            ]
          },
          "metadata": {}
        }
      ],
      "source": [
        "import plotly.express as px\n",
        "fig = px.scatter_3d(X[400:500],x=0,y=1,z=2, color=y[400:500])\n",
        "fig.show()"
      ]
    },
    {
      "cell_type": "code",
      "execution_count": null,
      "metadata": {
        "id": "Wag7ZHA0Dkui"
      },
      "outputs": [],
      "source": []
    }
  ],
  "metadata": {
    "colab": {
      "provenance": []
    },
    "kernelspec": {
      "display_name": "Python 3 (ipykernel)",
      "language": "python",
      "name": "python3"
    },
    "language_info": {
      "codemirror_mode": {
        "name": "ipython",
        "version": 3
      },
      "file_extension": ".py",
      "mimetype": "text/x-python",
      "name": "python",
      "nbconvert_exporter": "python",
      "pygments_lexer": "ipython3",
      "version": "3.9.12"
    }
  },
  "nbformat": 4,
  "nbformat_minor": 0
}